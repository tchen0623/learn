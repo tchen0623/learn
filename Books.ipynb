{
 "cells": [
  {
   "cell_type": "code",
   "execution_count": 1,
   "id": "403ae20d",
   "metadata": {},
   "outputs": [],
   "source": [
    "import numpy as np # linear algebra\n",
    "import pandas as pd # data processing, CSV file I/O (e.g. pd.read_csv)\n",
    "import os\n",
    "data_home = './'"
   ]
  },
  {
   "cell_type": "code",
   "execution_count": 2,
   "id": "1e7071f8",
   "metadata": {},
   "outputs": [],
   "source": [
    "for dirname, _, filenames in os.walk('/kaggle/input'):\n",
    "    for filename in filenames:\n",
    "        print(os.path.join(dirname, filename))"
   ]
  },
  {
   "cell_type": "code",
   "execution_count": 3,
   "id": "d4f85cf0",
   "metadata": {},
   "outputs": [
    {
     "data": {
      "text/html": [
       "<div>\n",
       "<style scoped>\n",
       "    .dataframe tbody tr th:only-of-type {\n",
       "        vertical-align: middle;\n",
       "    }\n",
       "\n",
       "    .dataframe tbody tr th {\n",
       "        vertical-align: top;\n",
       "    }\n",
       "\n",
       "    .dataframe thead th {\n",
       "        text-align: right;\n",
       "    }\n",
       "</style>\n",
       "<table border=\"1\" class=\"dataframe\">\n",
       "  <thead>\n",
       "    <tr style=\"text-align: right;\">\n",
       "      <th></th>\n",
       "      <th>ISBN</th>\n",
       "      <th>Book-Title</th>\n",
       "      <th>Book-Author</th>\n",
       "      <th>Year-Of-Publication</th>\n",
       "      <th>Publisher</th>\n",
       "      <th>Image-URL-S</th>\n",
       "      <th>Image-URL-M</th>\n",
       "      <th>Image-URL-L</th>\n",
       "      <th>User-ID</th>\n",
       "      <th>Book-Rating</th>\n",
       "      <th>Location</th>\n",
       "      <th>Age</th>\n",
       "    </tr>\n",
       "  </thead>\n",
       "  <tbody>\n",
       "    <tr>\n",
       "      <th>0</th>\n",
       "      <td>0195153448</td>\n",
       "      <td>Classical Mythology</td>\n",
       "      <td>Mark P. O. Morford</td>\n",
       "      <td>2002</td>\n",
       "      <td>Oxford University Press</td>\n",
       "      <td>http://images.amazon.com/images/P/0195153448.0...</td>\n",
       "      <td>http://images.amazon.com/images/P/0195153448.0...</td>\n",
       "      <td>http://images.amazon.com/images/P/0195153448.0...</td>\n",
       "      <td>2.0</td>\n",
       "      <td>0.0</td>\n",
       "      <td>stockton, california, usa</td>\n",
       "      <td>18.0</td>\n",
       "    </tr>\n",
       "    <tr>\n",
       "      <th>1</th>\n",
       "      <td>0002005018</td>\n",
       "      <td>Clara Callan</td>\n",
       "      <td>Richard Bruce Wright</td>\n",
       "      <td>2001</td>\n",
       "      <td>HarperFlamingo Canada</td>\n",
       "      <td>http://images.amazon.com/images/P/0002005018.0...</td>\n",
       "      <td>http://images.amazon.com/images/P/0002005018.0...</td>\n",
       "      <td>http://images.amazon.com/images/P/0002005018.0...</td>\n",
       "      <td>8.0</td>\n",
       "      <td>5.0</td>\n",
       "      <td>timmins, ontario, canada</td>\n",
       "      <td>NaN</td>\n",
       "    </tr>\n",
       "    <tr>\n",
       "      <th>2</th>\n",
       "      <td>0002005018</td>\n",
       "      <td>Clara Callan</td>\n",
       "      <td>Richard Bruce Wright</td>\n",
       "      <td>2001</td>\n",
       "      <td>HarperFlamingo Canada</td>\n",
       "      <td>http://images.amazon.com/images/P/0002005018.0...</td>\n",
       "      <td>http://images.amazon.com/images/P/0002005018.0...</td>\n",
       "      <td>http://images.amazon.com/images/P/0002005018.0...</td>\n",
       "      <td>11400.0</td>\n",
       "      <td>0.0</td>\n",
       "      <td>ottawa, ontario, canada</td>\n",
       "      <td>49.0</td>\n",
       "    </tr>\n",
       "    <tr>\n",
       "      <th>3</th>\n",
       "      <td>0002005018</td>\n",
       "      <td>Clara Callan</td>\n",
       "      <td>Richard Bruce Wright</td>\n",
       "      <td>2001</td>\n",
       "      <td>HarperFlamingo Canada</td>\n",
       "      <td>http://images.amazon.com/images/P/0002005018.0...</td>\n",
       "      <td>http://images.amazon.com/images/P/0002005018.0...</td>\n",
       "      <td>http://images.amazon.com/images/P/0002005018.0...</td>\n",
       "      <td>11676.0</td>\n",
       "      <td>8.0</td>\n",
       "      <td>n/a, n/a, n/a</td>\n",
       "      <td>NaN</td>\n",
       "    </tr>\n",
       "    <tr>\n",
       "      <th>4</th>\n",
       "      <td>0002005018</td>\n",
       "      <td>Clara Callan</td>\n",
       "      <td>Richard Bruce Wright</td>\n",
       "      <td>2001</td>\n",
       "      <td>HarperFlamingo Canada</td>\n",
       "      <td>http://images.amazon.com/images/P/0002005018.0...</td>\n",
       "      <td>http://images.amazon.com/images/P/0002005018.0...</td>\n",
       "      <td>http://images.amazon.com/images/P/0002005018.0...</td>\n",
       "      <td>41385.0</td>\n",
       "      <td>0.0</td>\n",
       "      <td>sudbury, ontario, canada</td>\n",
       "      <td>NaN</td>\n",
       "    </tr>\n",
       "  </tbody>\n",
       "</table>\n",
       "</div>"
      ],
      "text/plain": [
       "         ISBN           Book-Title           Book-Author Year-Of-Publication  \\\n",
       "0  0195153448  Classical Mythology    Mark P. O. Morford                2002   \n",
       "1  0002005018         Clara Callan  Richard Bruce Wright                2001   \n",
       "2  0002005018         Clara Callan  Richard Bruce Wright                2001   \n",
       "3  0002005018         Clara Callan  Richard Bruce Wright                2001   \n",
       "4  0002005018         Clara Callan  Richard Bruce Wright                2001   \n",
       "\n",
       "                 Publisher                                        Image-URL-S  \\\n",
       "0  Oxford University Press  http://images.amazon.com/images/P/0195153448.0...   \n",
       "1    HarperFlamingo Canada  http://images.amazon.com/images/P/0002005018.0...   \n",
       "2    HarperFlamingo Canada  http://images.amazon.com/images/P/0002005018.0...   \n",
       "3    HarperFlamingo Canada  http://images.amazon.com/images/P/0002005018.0...   \n",
       "4    HarperFlamingo Canada  http://images.amazon.com/images/P/0002005018.0...   \n",
       "\n",
       "                                         Image-URL-M  \\\n",
       "0  http://images.amazon.com/images/P/0195153448.0...   \n",
       "1  http://images.amazon.com/images/P/0002005018.0...   \n",
       "2  http://images.amazon.com/images/P/0002005018.0...   \n",
       "3  http://images.amazon.com/images/P/0002005018.0...   \n",
       "4  http://images.amazon.com/images/P/0002005018.0...   \n",
       "\n",
       "                                         Image-URL-L  User-ID  Book-Rating  \\\n",
       "0  http://images.amazon.com/images/P/0195153448.0...      2.0          0.0   \n",
       "1  http://images.amazon.com/images/P/0002005018.0...      8.0          5.0   \n",
       "2  http://images.amazon.com/images/P/0002005018.0...  11400.0          0.0   \n",
       "3  http://images.amazon.com/images/P/0002005018.0...  11676.0          8.0   \n",
       "4  http://images.amazon.com/images/P/0002005018.0...  41385.0          0.0   \n",
       "\n",
       "                    Location   Age  \n",
       "0  stockton, california, usa  18.0  \n",
       "1   timmins, ontario, canada   NaN  \n",
       "2    ottawa, ontario, canada  49.0  \n",
       "3              n/a, n/a, n/a   NaN  \n",
       "4   sudbury, ontario, canada   NaN  "
      ]
     },
     "execution_count": 3,
     "metadata": {},
     "output_type": "execute_result"
    }
   ],
   "source": [
    "book = pd.read_csv('./Books.csv',low_memory=False)\n",
    "rating = pd.read_csv('./Ratings.csv',low_memory=False)\n",
    "users = pd.read_csv('./Users.csv',low_memory=False)\n",
    "\n",
    "df1 = book.merge(rating,how='left',on='ISBN')\n",
    "df_ = df1.merge(users,how='left',on='User-ID')\n",
    "\n",
    "df = df_.copy()\n",
    "df.head()"
   ]
  },
  {
   "cell_type": "code",
   "execution_count": 4,
   "id": "358e9deb",
   "metadata": {},
   "outputs": [
    {
     "data": {
      "text/plain": [
       "(1032345, 12)"
      ]
     },
     "execution_count": 4,
     "metadata": {},
     "output_type": "execute_result"
    }
   ],
   "source": [
    "df.shape"
   ]
  },
  {
   "cell_type": "code",
   "execution_count": 5,
   "id": "9b5c91d8",
   "metadata": {},
   "outputs": [
    {
     "name": "stdout",
     "output_type": "stream",
     "text": [
      "<class 'pandas.core.frame.DataFrame'>\n",
      "Int64Index: 1032345 entries, 0 to 1032344\n",
      "Data columns (total 12 columns):\n",
      " #   Column               Non-Null Count    Dtype  \n",
      "---  ------               --------------    -----  \n",
      " 0   ISBN                 1032345 non-null  object \n",
      " 1   Book-Title           1032345 non-null  object \n",
      " 2   Book-Author          1032344 non-null  object \n",
      " 3   Year-Of-Publication  1032345 non-null  object \n",
      " 4   Publisher            1032343 non-null  object \n",
      " 5   Image-URL-S          1032345 non-null  object \n",
      " 6   Image-URL-M          1032345 non-null  object \n",
      " 7   Image-URL-L          1032341 non-null  object \n",
      " 8   User-ID              1031136 non-null  float64\n",
      " 9   Book-Rating          1031136 non-null  float64\n",
      " 10  Location             1031136 non-null  object \n",
      " 11  Age                  753301 non-null   float64\n",
      "dtypes: float64(3), object(9)\n",
      "memory usage: 102.4+ MB\n"
     ]
    }
   ],
   "source": [
    "df.info()\n",
    "df.dropna(inplace= True)"
   ]
  },
  {
   "cell_type": "code",
   "execution_count": 6,
   "id": "db710ef6",
   "metadata": {},
   "outputs": [],
   "source": [
    "df['User-ID'] = df['User-ID'].astype('int')\n",
    "df['Age'] = df['Age'].astype('int')"
   ]
  },
  {
   "cell_type": "code",
   "execution_count": 7,
   "id": "78b150f0",
   "metadata": {},
   "outputs": [],
   "source": [
    "df[\"Book-Author\"]=df[\"Book-Author\"].astype(\"string\")\n",
    "df[\"Book-Author\"]=df[\"Book-Author\"].str.replace(\"DAN BROWN\",\"Dan Brown\")"
   ]
  },
  {
   "cell_type": "code",
   "execution_count": 8,
   "id": "905b63b6",
   "metadata": {},
   "outputs": [],
   "source": [
    "df[\"Book-Author\"]=df[\"Book-Author\"].str.replace(\"Audrey Osofsky\",\"Stephen King\")\n",
    "df[\"Book-Author\"]=df[\"Book-Author\"].str.replace(\"Dinah McCall\",\"Stephen King\")"
   ]
  },
  {
   "cell_type": "code",
   "execution_count": 9,
   "id": "dc910a73",
   "metadata": {},
   "outputs": [],
   "source": [
    "df.drop(columns=[\"Image-URL-S\",\"Image-URL-M\",\"Year-Of-Publication\",\"Image-URL-L\"],inplace=True)"
   ]
  },
  {
   "cell_type": "code",
   "execution_count": 10,
   "id": "f8b7532c",
   "metadata": {},
   "outputs": [
    {
     "data": {
      "text/plain": [
       "count    269617.000000\n",
       "mean          7.736152\n",
       "std           1.814537\n",
       "min           1.000000\n",
       "25%           7.000000\n",
       "50%           8.000000\n",
       "75%           9.000000\n",
       "max          10.000000\n",
       "Name: Book-Rating, dtype: float64"
      ]
     },
     "execution_count": 10,
     "metadata": {},
     "output_type": "execute_result"
    }
   ],
   "source": [
    "df=df[df[\"Book-Rating\"]>0]\n",
    "df[\"Book-Rating\"].describe()"
   ]
  },
  {
   "cell_type": "code",
   "execution_count": 20,
   "id": "2b917a9b",
   "metadata": {},
   "outputs": [
    {
     "data": {
      "text/plain": [
       "40543"
      ]
     },
     "execution_count": 20,
     "metadata": {},
     "output_type": "execute_result"
    }
   ],
   "source": [
    "df[\"User-ID\"].nunique()"
   ]
  },
  {
   "cell_type": "code",
   "execution_count": 21,
   "id": "bf3b5267",
   "metadata": {},
   "outputs": [
    {
     "data": {
      "text/plain": [
       "109209"
      ]
     },
     "execution_count": 21,
     "metadata": {},
     "output_type": "execute_result"
    }
   ],
   "source": [
    "df[\"Book-Title\"].nunique()"
   ]
  },
  {
   "cell_type": "code",
   "execution_count": 39,
   "id": "15f68dce",
   "metadata": {},
   "outputs": [
    {
     "data": {
      "text/plain": [
       "User-ID\n",
       "19           1\n",
       "158169       1\n",
       "158156       1\n",
       "158152       1\n",
       "158121       1\n",
       "          ... \n",
       "16795      959\n",
       "171118     962\n",
       "235105    1020\n",
       "153662    1845\n",
       "98391     5689\n",
       "Name: Book-Title, Length: 40543, dtype: int64"
      ]
     },
     "execution_count": 39,
     "metadata": {},
     "output_type": "execute_result"
    }
   ],
   "source": [
    "df.groupby('User-ID')['Book-Title'].agg('count').sort_values()"
   ]
  },
  {
   "cell_type": "code",
   "execution_count": 12,
   "id": "6bf88d9d",
   "metadata": {},
   "outputs": [],
   "source": [
    "book_counts = pd.DataFrame(df[\"Book-Title\"].value_counts())"
   ]
  },
  {
   "cell_type": "code",
   "execution_count": 13,
   "id": "ed4dc799",
   "metadata": {},
   "outputs": [
    {
     "data": {
      "text/html": [
       "<div>\n",
       "<style scoped>\n",
       "    .dataframe tbody tr th:only-of-type {\n",
       "        vertical-align: middle;\n",
       "    }\n",
       "\n",
       "    .dataframe tbody tr th {\n",
       "        vertical-align: top;\n",
       "    }\n",
       "\n",
       "    .dataframe thead th {\n",
       "        text-align: right;\n",
       "    }\n",
       "</style>\n",
       "<table border=\"1\" class=\"dataframe\">\n",
       "  <thead>\n",
       "    <tr style=\"text-align: right;\">\n",
       "      <th></th>\n",
       "      <th>Book-Title</th>\n",
       "    </tr>\n",
       "  </thead>\n",
       "  <tbody>\n",
       "    <tr>\n",
       "      <th>Wild Animus</th>\n",
       "      <td>473</td>\n",
       "    </tr>\n",
       "    <tr>\n",
       "      <th>The Lovely Bones: A Novel</th>\n",
       "      <td>473</td>\n",
       "    </tr>\n",
       "    <tr>\n",
       "      <th>The Da Vinci Code</th>\n",
       "      <td>380</td>\n",
       "    </tr>\n",
       "    <tr>\n",
       "      <th>The Secret Life of Bees</th>\n",
       "      <td>280</td>\n",
       "    </tr>\n",
       "    <tr>\n",
       "      <th>Bridget Jones's Diary</th>\n",
       "      <td>261</td>\n",
       "    </tr>\n",
       "    <tr>\n",
       "      <th>...</th>\n",
       "      <td>...</td>\n",
       "    </tr>\n",
       "    <tr>\n",
       "      <th>WEEPING ANGEL : WEEPING ANGEL</th>\n",
       "      <td>1</td>\n",
       "    </tr>\n",
       "    <tr>\n",
       "      <th>Was die Welt nicht braucht. Von Chatten bis Waschbrettbauch.</th>\n",
       "      <td>1</td>\n",
       "    </tr>\n",
       "    <tr>\n",
       "      <th>Knitting Masterpieces</th>\n",
       "      <td>1</td>\n",
       "    </tr>\n",
       "    <tr>\n",
       "      <th>I Don't Know What to Say</th>\n",
       "      <td>1</td>\n",
       "    </tr>\n",
       "    <tr>\n",
       "      <th>From One to One Hundred</th>\n",
       "      <td>1</td>\n",
       "    </tr>\n",
       "  </tbody>\n",
       "</table>\n",
       "<p>109209 rows × 1 columns</p>\n",
       "</div>"
      ],
      "text/plain": [
       "                                                    Book-Title\n",
       "Wild Animus                                                473\n",
       "The Lovely Bones: A Novel                                  473\n",
       "The Da Vinci Code                                          380\n",
       "The Secret Life of Bees                                    280\n",
       "Bridget Jones's Diary                                      261\n",
       "...                                                        ...\n",
       "WEEPING ANGEL : WEEPING ANGEL                                1\n",
       "Was die Welt nicht braucht. Von Chatten bis Was...           1\n",
       "Knitting Masterpieces                                        1\n",
       "I Don't Know What to Say                                     1\n",
       "From One to One Hundred                                      1\n",
       "\n",
       "[109209 rows x 1 columns]"
      ]
     },
     "execution_count": 13,
     "metadata": {},
     "output_type": "execute_result"
    }
   ],
   "source": [
    "book_counts.sort_values(\"Book-Title\", ascending=False)"
   ]
  },
  {
   "cell_type": "code",
   "execution_count": 14,
   "id": "64b2018d",
   "metadata": {},
   "outputs": [],
   "source": [
    "rare_book = book_counts[book_counts[\"Book-Title\"] <= 100].index"
   ]
  },
  {
   "cell_type": "code",
   "execution_count": 15,
   "id": "ee4b7eaf",
   "metadata": {},
   "outputs": [
    {
     "data": {
      "text/plain": [
       "109118"
      ]
     },
     "execution_count": 15,
     "metadata": {},
     "output_type": "execute_result"
    }
   ],
   "source": [
    "rare_book.nunique()"
   ]
  },
  {
   "cell_type": "code",
   "execution_count": 16,
   "id": "1aa6131f",
   "metadata": {},
   "outputs": [
    {
     "data": {
      "text/html": [
       "<div>\n",
       "<style scoped>\n",
       "    .dataframe tbody tr th:only-of-type {\n",
       "        vertical-align: middle;\n",
       "    }\n",
       "\n",
       "    .dataframe tbody tr th {\n",
       "        vertical-align: top;\n",
       "    }\n",
       "\n",
       "    .dataframe thead th {\n",
       "        text-align: right;\n",
       "    }\n",
       "</style>\n",
       "<table border=\"1\" class=\"dataframe\">\n",
       "  <thead>\n",
       "    <tr style=\"text-align: right;\">\n",
       "      <th></th>\n",
       "      <th>ISBN</th>\n",
       "      <th>Book-Title</th>\n",
       "      <th>Book-Author</th>\n",
       "      <th>Publisher</th>\n",
       "      <th>User-ID</th>\n",
       "      <th>Book-Rating</th>\n",
       "      <th>Location</th>\n",
       "      <th>Age</th>\n",
       "    </tr>\n",
       "  </thead>\n",
       "  <tbody>\n",
       "    <tr>\n",
       "      <th>108</th>\n",
       "      <td>0440234743</td>\n",
       "      <td>The Testament</td>\n",
       "      <td>John Grisham</td>\n",
       "      <td>Dell</td>\n",
       "      <td>7346</td>\n",
       "      <td>9.0</td>\n",
       "      <td>sunnyvale, california, usa</td>\n",
       "      <td>49</td>\n",
       "    </tr>\n",
       "    <tr>\n",
       "      <th>109</th>\n",
       "      <td>0440234743</td>\n",
       "      <td>The Testament</td>\n",
       "      <td>John Grisham</td>\n",
       "      <td>Dell</td>\n",
       "      <td>7352</td>\n",
       "      <td>8.0</td>\n",
       "      <td>houston, texas, usa</td>\n",
       "      <td>53</td>\n",
       "    </tr>\n",
       "    <tr>\n",
       "      <th>113</th>\n",
       "      <td>0440234743</td>\n",
       "      <td>The Testament</td>\n",
       "      <td>John Grisham</td>\n",
       "      <td>Dell</td>\n",
       "      <td>11224</td>\n",
       "      <td>6.0</td>\n",
       "      <td>tumwater, washington, usa</td>\n",
       "      <td>51</td>\n",
       "    </tr>\n",
       "    <tr>\n",
       "      <th>116</th>\n",
       "      <td>0440234743</td>\n",
       "      <td>The Testament</td>\n",
       "      <td>John Grisham</td>\n",
       "      <td>Dell</td>\n",
       "      <td>12923</td>\n",
       "      <td>10.0</td>\n",
       "      <td>louisville, kentucky, usa</td>\n",
       "      <td>39</td>\n",
       "    </tr>\n",
       "    <tr>\n",
       "      <th>117</th>\n",
       "      <td>0440234743</td>\n",
       "      <td>The Testament</td>\n",
       "      <td>John Grisham</td>\n",
       "      <td>Dell</td>\n",
       "      <td>13552</td>\n",
       "      <td>8.0</td>\n",
       "      <td>cordova, tennessee, usa</td>\n",
       "      <td>32</td>\n",
       "    </tr>\n",
       "  </tbody>\n",
       "</table>\n",
       "</div>"
      ],
      "text/plain": [
       "           ISBN     Book-Title   Book-Author Publisher  User-ID  Book-Rating  \\\n",
       "108  0440234743  The Testament  John Grisham      Dell     7346          9.0   \n",
       "109  0440234743  The Testament  John Grisham      Dell     7352          8.0   \n",
       "113  0440234743  The Testament  John Grisham      Dell    11224          6.0   \n",
       "116  0440234743  The Testament  John Grisham      Dell    12923         10.0   \n",
       "117  0440234743  The Testament  John Grisham      Dell    13552          8.0   \n",
       "\n",
       "                       Location  Age  \n",
       "108  sunnyvale, california, usa   49  \n",
       "109         houston, texas, usa   53  \n",
       "113   tumwater, washington, usa   51  \n",
       "116   louisville, kentucky, usa   39  \n",
       "117     cordova, tennessee, usa   32  "
      ]
     },
     "execution_count": 16,
     "metadata": {},
     "output_type": "execute_result"
    }
   ],
   "source": [
    "common_book = df[~df[\"Book-Title\"].isin(rare_book)]\n",
    "common_book.head()"
   ]
  },
  {
   "cell_type": "code",
   "execution_count": 19,
   "id": "1fb6d85e",
   "metadata": {},
   "outputs": [],
   "source": [
    "import Recommenders as Recommenders\n",
    "from sklearn.model_selection import train_test_split"
   ]
  },
  {
   "cell_type": "code",
   "execution_count": 71,
   "id": "ea71a47f",
   "metadata": {},
   "outputs": [
    {
     "name": "stdout",
     "output_type": "stream",
     "text": [
      "229966    120333\n",
      "213726    214234\n",
      "78637     105054\n",
      "158355    245328\n",
      "128646     91087\n",
      "           ...  \n",
      "203282    247057\n",
      "25303     243341\n",
      "108304     40889\n",
      "130550     54898\n",
      "22143     239460\n",
      "Name: User-ID, Length: 8707, dtype: int32\n"
     ]
    }
   ],
   "source": [
    "common_book_set = common_book\n",
    "train_data,test_data = train_test_split(common_book_set,test_size = 0.40,random_state=0)\n"
   ]
  },
  {
   "cell_type": "code",
   "execution_count": 59,
   "id": "8de729e1",
   "metadata": {},
   "outputs": [],
   "source": [
    "def create_popularity_recommendation(train_data, User_ID, Book_Title):\n",
    "    train_data_grouped = train_data.groupby([Book_Title]).agg({User_ID:'count'}).reset_index()\n",
    "    df.groupby('User-ID')['Book-Title'].agg('count').sort_values()\n",
    "    train_data_grouped.rename(columns = {User_ID:'score'},inplace=True)\n",
    "    \n",
    "    train_data_sort = train_data_grouped.sort_values(['score',Book_Title],ascending = [0,1])\n",
    "    \n",
    "    train_data_sort['Rank'] = train_data_sort['score'].rank(ascending=0, method='first')\n",
    "    \n",
    "    popularity_recommendations = train_data_sort.head(20)\n",
    "    return popularity_recommendations"
   ]
  },
  {
   "cell_type": "code",
   "execution_count": 60,
   "id": "0e13b1c8",
   "metadata": {},
   "outputs": [],
   "source": [
    "recommendations = create_popularity_recommendation(common_book,'User-ID','Book-Title')"
   ]
  },
  {
   "cell_type": "code",
   "execution_count": 61,
   "id": "3a4b6b38",
   "metadata": {},
   "outputs": [
    {
     "data": {
      "text/html": [
       "<div>\n",
       "<style scoped>\n",
       "    .dataframe tbody tr th:only-of-type {\n",
       "        vertical-align: middle;\n",
       "    }\n",
       "\n",
       "    .dataframe tbody tr th {\n",
       "        vertical-align: top;\n",
       "    }\n",
       "\n",
       "    .dataframe thead th {\n",
       "        text-align: right;\n",
       "    }\n",
       "</style>\n",
       "<table border=\"1\" class=\"dataframe\">\n",
       "  <thead>\n",
       "    <tr style=\"text-align: right;\">\n",
       "      <th></th>\n",
       "      <th>Book-Title</th>\n",
       "      <th>score</th>\n",
       "      <th>Rank</th>\n",
       "    </tr>\n",
       "  </thead>\n",
       "  <tbody>\n",
       "    <tr>\n",
       "      <th>64</th>\n",
       "      <td>The Lovely Bones: A Novel</td>\n",
       "      <td>473</td>\n",
       "      <td>1.0</td>\n",
       "    </tr>\n",
       "    <tr>\n",
       "      <th>90</th>\n",
       "      <td>Wild Animus</td>\n",
       "      <td>473</td>\n",
       "      <td>2.0</td>\n",
       "    </tr>\n",
       "    <tr>\n",
       "      <th>53</th>\n",
       "      <td>The Da Vinci Code</td>\n",
       "      <td>380</td>\n",
       "      <td>3.0</td>\n",
       "    </tr>\n",
       "    <tr>\n",
       "      <th>76</th>\n",
       "      <td>The Secret Life of Bees</td>\n",
       "      <td>280</td>\n",
       "      <td>4.0</td>\n",
       "    </tr>\n",
       "    <tr>\n",
       "      <th>9</th>\n",
       "      <td>Bridget Jones's Diary</td>\n",
       "      <td>261</td>\n",
       "      <td>5.0</td>\n",
       "    </tr>\n",
       "    <tr>\n",
       "      <th>7</th>\n",
       "      <td>Angels &amp;amp; Demons</td>\n",
       "      <td>258</td>\n",
       "      <td>6.0</td>\n",
       "    </tr>\n",
       "    <tr>\n",
       "      <th>30</th>\n",
       "      <td>Life of Pi</td>\n",
       "      <td>252</td>\n",
       "      <td>7.0</td>\n",
       "    </tr>\n",
       "    <tr>\n",
       "      <th>20</th>\n",
       "      <td>Harry Potter and the Chamber of Secrets (Book 2)</td>\n",
       "      <td>246</td>\n",
       "      <td>8.0</td>\n",
       "    </tr>\n",
       "    <tr>\n",
       "      <th>65</th>\n",
       "      <td>The Nanny Diaries: A Novel</td>\n",
       "      <td>246</td>\n",
       "      <td>9.0</td>\n",
       "    </tr>\n",
       "    <tr>\n",
       "      <th>74</th>\n",
       "      <td>The Red Tent (Bestselling Backlist)</td>\n",
       "      <td>227</td>\n",
       "      <td>10.0</td>\n",
       "    </tr>\n",
       "    <tr>\n",
       "      <th>25</th>\n",
       "      <td>Harry Potter and the Sorcerer's Stone (Harry P...</td>\n",
       "      <td>225</td>\n",
       "      <td>11.0</td>\n",
       "    </tr>\n",
       "    <tr>\n",
       "      <th>23</th>\n",
       "      <td>Harry Potter and the Prisoner of Azkaban (Book 3)</td>\n",
       "      <td>217</td>\n",
       "      <td>12.0</td>\n",
       "    </tr>\n",
       "    <tr>\n",
       "      <th>2</th>\n",
       "      <td>A Painted House</td>\n",
       "      <td>208</td>\n",
       "      <td>13.0</td>\n",
       "    </tr>\n",
       "    <tr>\n",
       "      <th>13</th>\n",
       "      <td>Divine Secrets of the Ya-Ya Sisterhood: A Novel</td>\n",
       "      <td>205</td>\n",
       "      <td>14.0</td>\n",
       "    </tr>\n",
       "    <tr>\n",
       "      <th>57</th>\n",
       "      <td>The Five People You Meet in Heaven</td>\n",
       "      <td>205</td>\n",
       "      <td>15.0</td>\n",
       "    </tr>\n",
       "    <tr>\n",
       "      <th>83</th>\n",
       "      <td>To Kill a Mockingbird</td>\n",
       "      <td>197</td>\n",
       "      <td>16.0</td>\n",
       "    </tr>\n",
       "    <tr>\n",
       "      <th>86</th>\n",
       "      <td>Where the Heart Is (Oprah's Book Club (Paperba...</td>\n",
       "      <td>196</td>\n",
       "      <td>17.0</td>\n",
       "    </tr>\n",
       "    <tr>\n",
       "      <th>21</th>\n",
       "      <td>Harry Potter and the Goblet of Fire (Book 4)</td>\n",
       "      <td>191</td>\n",
       "      <td>18.0</td>\n",
       "    </tr>\n",
       "    <tr>\n",
       "      <th>49</th>\n",
       "      <td>The Catcher in the Rye</td>\n",
       "      <td>191</td>\n",
       "      <td>19.0</td>\n",
       "    </tr>\n",
       "    <tr>\n",
       "      <th>67</th>\n",
       "      <td>The Notebook</td>\n",
       "      <td>189</td>\n",
       "      <td>20.0</td>\n",
       "    </tr>\n",
       "  </tbody>\n",
       "</table>\n",
       "</div>"
      ],
      "text/plain": [
       "                                           Book-Title  score  Rank\n",
       "64                          The Lovely Bones: A Novel    473   1.0\n",
       "90                                        Wild Animus    473   2.0\n",
       "53                                  The Da Vinci Code    380   3.0\n",
       "76                            The Secret Life of Bees    280   4.0\n",
       "9                               Bridget Jones's Diary    261   5.0\n",
       "7                                 Angels &amp; Demons    258   6.0\n",
       "30                                         Life of Pi    252   7.0\n",
       "20   Harry Potter and the Chamber of Secrets (Book 2)    246   8.0\n",
       "65                         The Nanny Diaries: A Novel    246   9.0\n",
       "74                The Red Tent (Bestselling Backlist)    227  10.0\n",
       "25  Harry Potter and the Sorcerer's Stone (Harry P...    225  11.0\n",
       "23  Harry Potter and the Prisoner of Azkaban (Book 3)    217  12.0\n",
       "2                                     A Painted House    208  13.0\n",
       "13    Divine Secrets of the Ya-Ya Sisterhood: A Novel    205  14.0\n",
       "57                 The Five People You Meet in Heaven    205  15.0\n",
       "83                              To Kill a Mockingbird    197  16.0\n",
       "86  Where the Heart Is (Oprah's Book Club (Paperba...    196  17.0\n",
       "21       Harry Potter and the Goblet of Fire (Book 4)    191  18.0\n",
       "49                             The Catcher in the Rye    191  19.0\n",
       "67                                       The Notebook    189  20.0"
      ]
     },
     "execution_count": 61,
     "metadata": {},
     "output_type": "execute_result"
    }
   ],
   "source": [
    "recommendations"
   ]
  },
  {
   "cell_type": "code",
   "execution_count": 75,
   "id": "7886ae97",
   "metadata": {},
   "outputs": [],
   "source": [
    "train_data,test_data = train_test_split(common_book_set,test_size = 0.30,random_state=0)\n",
    "is_model = Recommenders.item_similarity_recommender_py()\n",
    "is_model.create(train_data, 'User-ID', 'Book-Title')\n",
    "user_id = list(train_data['User-ID'])[7]\n",
    "user_items = is_model.get_user_items(user_id)"
   ]
  },
  {
   "cell_type": "code",
   "execution_count": 76,
   "id": "a122df2c",
   "metadata": {},
   "outputs": [
    {
     "name": "stdout",
     "output_type": "stream",
     "text": [
      "No. of unique songs for the user: 2\n",
      "no. of unique songs in the training set: 91\n",
      "Non zero values in cooccurence_matrix :145\n"
     ]
    },
    {
     "data": {
      "text/html": [
       "<div>\n",
       "<style scoped>\n",
       "    .dataframe tbody tr th:only-of-type {\n",
       "        vertical-align: middle;\n",
       "    }\n",
       "\n",
       "    .dataframe tbody tr th {\n",
       "        vertical-align: top;\n",
       "    }\n",
       "\n",
       "    .dataframe thead th {\n",
       "        text-align: right;\n",
       "    }\n",
       "</style>\n",
       "<table border=\"1\" class=\"dataframe\">\n",
       "  <thead>\n",
       "    <tr style=\"text-align: right;\">\n",
       "      <th></th>\n",
       "      <th>user_id</th>\n",
       "      <th>song</th>\n",
       "      <th>score</th>\n",
       "      <th>rank</th>\n",
       "    </tr>\n",
       "  </thead>\n",
       "  <tbody>\n",
       "    <tr>\n",
       "      <th>0</th>\n",
       "      <td>90423</td>\n",
       "      <td>The Poisonwood Bible: A Novel</td>\n",
       "      <td>0.026828</td>\n",
       "      <td>1</td>\n",
       "    </tr>\n",
       "    <tr>\n",
       "      <th>1</th>\n",
       "      <td>90423</td>\n",
       "      <td>The Five People You Meet in Heaven</td>\n",
       "      <td>0.026639</td>\n",
       "      <td>2</td>\n",
       "    </tr>\n",
       "    <tr>\n",
       "      <th>2</th>\n",
       "      <td>90423</td>\n",
       "      <td>Harry Potter and the Goblet of Fire (Book 4)</td>\n",
       "      <td>0.023682</td>\n",
       "      <td>3</td>\n",
       "    </tr>\n",
       "    <tr>\n",
       "      <th>3</th>\n",
       "      <td>90423</td>\n",
       "      <td>She's Come Undone (Oprah's Book Club (Paperback))</td>\n",
       "      <td>0.021957</td>\n",
       "      <td>4</td>\n",
       "    </tr>\n",
       "    <tr>\n",
       "      <th>4</th>\n",
       "      <td>90423</td>\n",
       "      <td>To Kill a Mockingbird</td>\n",
       "      <td>0.021789</td>\n",
       "      <td>5</td>\n",
       "    </tr>\n",
       "    <tr>\n",
       "      <th>5</th>\n",
       "      <td>90423</td>\n",
       "      <td>White Oleander : A Novel</td>\n",
       "      <td>0.021099</td>\n",
       "      <td>6</td>\n",
       "    </tr>\n",
       "    <tr>\n",
       "      <th>6</th>\n",
       "      <td>90423</td>\n",
       "      <td>The Secret Life of Bees</td>\n",
       "      <td>0.019623</td>\n",
       "      <td>7</td>\n",
       "    </tr>\n",
       "    <tr>\n",
       "      <th>7</th>\n",
       "      <td>90423</td>\n",
       "      <td>American Gods</td>\n",
       "      <td>0.018917</td>\n",
       "      <td>8</td>\n",
       "    </tr>\n",
       "    <tr>\n",
       "      <th>8</th>\n",
       "      <td>90423</td>\n",
       "      <td>The Two Towers (The Lord of the Rings, Part 2)</td>\n",
       "      <td>0.018587</td>\n",
       "      <td>9</td>\n",
       "    </tr>\n",
       "    <tr>\n",
       "      <th>9</th>\n",
       "      <td>90423</td>\n",
       "      <td>The Lovely Bones: A Novel</td>\n",
       "      <td>0.018349</td>\n",
       "      <td>10</td>\n",
       "    </tr>\n",
       "  </tbody>\n",
       "</table>\n",
       "</div>"
      ],
      "text/plain": [
       "  user_id                                               song     score rank\n",
       "0   90423                      The Poisonwood Bible: A Novel  0.026828    1\n",
       "1   90423                 The Five People You Meet in Heaven  0.026639    2\n",
       "2   90423       Harry Potter and the Goblet of Fire (Book 4)  0.023682    3\n",
       "3   90423  She's Come Undone (Oprah's Book Club (Paperback))  0.021957    4\n",
       "4   90423                              To Kill a Mockingbird  0.021789    5\n",
       "5   90423                           White Oleander : A Novel  0.021099    6\n",
       "6   90423                            The Secret Life of Bees  0.019623    7\n",
       "7   90423                                      American Gods  0.018917    8\n",
       "8   90423     The Two Towers (The Lord of the Rings, Part 2)  0.018587    9\n",
       "9   90423                          The Lovely Bones: A Novel  0.018349   10"
      ]
     },
     "execution_count": 76,
     "metadata": {},
     "output_type": "execute_result"
    }
   ],
   "source": [
    "is_model.recommend(user_id)"
   ]
  },
  {
   "cell_type": "code",
   "execution_count": null,
   "id": "8db21201",
   "metadata": {},
   "outputs": [],
   "source": []
  }
 ],
 "metadata": {
  "kernelspec": {
   "display_name": "Python 3 (ipykernel)",
   "language": "python",
   "name": "python3"
  },
  "language_info": {
   "codemirror_mode": {
    "name": "ipython",
    "version": 3
   },
   "file_extension": ".py",
   "mimetype": "text/x-python",
   "name": "python",
   "nbconvert_exporter": "python",
   "pygments_lexer": "ipython3",
   "version": "3.9.7"
  }
 },
 "nbformat": 4,
 "nbformat_minor": 5
}
